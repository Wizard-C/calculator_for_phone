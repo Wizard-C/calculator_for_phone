{
 "cells": [
  {
   "cell_type": "code",
   "execution_count": 62,
   "metadata": {},
   "outputs": [],
   "source": [
    "# Пока что разборку файла буду делать в этом файле, в дальшем, возможно, нужно будет перенести в другой"
   ]
  },
  {
   "cell_type": "code",
   "execution_count": 63,
   "metadata": {},
   "outputs": [],
   "source": [
    "import pandas as pd\n",
    "import numpy as np\n",
    "import matplotlib as mlp\n",
    "from sklearn.linear_model import LogisticRegression\n",
    "from sklearn.datasets import load_iris"
   ]
  },
  {
   "cell_type": "code",
   "execution_count": 64,
   "metadata": {},
   "outputs": [
    {
     "data": {
      "text/html": "<div>\n<style scoped>\n    .dataframe tbody tr th:only-of-type {\n        vertical-align: middle;\n    }\n\n    .dataframe tbody tr th {\n        vertical-align: top;\n    }\n\n    .dataframe thead th {\n        text-align: right;\n    }\n</style>\n<table border=\"1\" class=\"dataframe\">\n  <thead>\n    <tr style=\"text-align: right;\">\n      <th></th>\n      <th>data</th>\n      <th>curs</th>\n    </tr>\n  </thead>\n  <tbody>\n    <tr>\n      <td>0</td>\n      <td>2019-09-07</td>\n      <td>65.9981</td>\n    </tr>\n    <tr>\n      <td>1</td>\n      <td>2019-09-10</td>\n      <td>65.5698</td>\n    </tr>\n    <tr>\n      <td>2</td>\n      <td>2019-09-11</td>\n      <td>65.4393</td>\n    </tr>\n    <tr>\n      <td>3</td>\n      <td>2019-09-12</td>\n      <td>65.4321</td>\n    </tr>\n    <tr>\n      <td>4</td>\n      <td>2019-09-13</td>\n      <td>65.1909</td>\n    </tr>\n    <tr>\n      <td>...</td>\n      <td>...</td>\n      <td>...</td>\n    </tr>\n    <tr>\n      <td>118</td>\n      <td>2020-03-03</td>\n      <td>66.3274</td>\n    </tr>\n    <tr>\n      <td>119</td>\n      <td>2020-03-04</td>\n      <td>66.4437</td>\n    </tr>\n    <tr>\n      <td>120</td>\n      <td>2020-03-05</td>\n      <td>66.0784</td>\n    </tr>\n    <tr>\n      <td>121</td>\n      <td>2020-03-06</td>\n      <td>66.1854</td>\n    </tr>\n    <tr>\n      <td>122</td>\n      <td>2020-03-07</td>\n      <td>67.5175</td>\n    </tr>\n  </tbody>\n</table>\n<p>123 rows × 2 columns</p>\n</div>",
      "text/plain": "          data     curs\n0   2019-09-07  65.9981\n1   2019-09-10  65.5698\n2   2019-09-11  65.4393\n3   2019-09-12  65.4321\n4   2019-09-13  65.1909\n..         ...      ...\n118 2020-03-03  66.3274\n119 2020-03-04  66.4437\n120 2020-03-05  66.0784\n121 2020-03-06  66.1854\n122 2020-03-07  67.5175\n\n[123 rows x 2 columns]"
     },
     "execution_count": 64,
     "metadata": {},
     "output_type": "execute_result"
    }
   ],
   "source": [
    "# Настраиваем файл\n",
    "raw_data = pd.read_excel('data.xlsx')\n",
    "raw_data = raw_data[['data', 'curs']]\n",
    "curs = raw_data['curs']\n",
    "raw_data"
   ]
  },
  {
   "cell_type": "code",
   "execution_count": 50,
   "metadata": {},
   "outputs": [],
   "source": [
    "past = 7 * 4 # Обучение за 4 недели\n",
    "future = 7 # Предсказание на неделю\n",
    "start = past\n",
    "end = len(raw_data)-feature\n",
    "data = []"
   ]
  },
  {
   "cell_type": "code",
   "execution_count": 51,
   "metadata": {},
   "outputs": [],
   "source": [
    "j = 0\n",
    "past_columns = ['past_{}'.format(i+1) for i in range(past)] # Название колонок\n",
    "future_columns = ['future_{}'.format(i+1) for i in range(future)]\n",
    "for i in range(start, end):\n",
    "    past_future_values = curs[(i-past):(i+future)]\n",
    "    data.append(list(past_future_values))"
   ]
  },
  {
   "cell_type": "code",
   "execution_count": 52,
   "metadata": {},
   "outputs": [
    {
     "data": {
      "text/html": "<div>\n<style scoped>\n    .dataframe tbody tr th:only-of-type {\n        vertical-align: middle;\n    }\n\n    .dataframe tbody tr th {\n        vertical-align: top;\n    }\n\n    .dataframe thead th {\n        text-align: right;\n    }\n</style>\n<table border=\"1\" class=\"dataframe\">\n  <thead>\n    <tr style=\"text-align: right;\">\n      <th></th>\n      <th>past_1</th>\n      <th>past_2</th>\n      <th>past_3</th>\n      <th>past_4</th>\n      <th>past_5</th>\n      <th>past_6</th>\n      <th>past_7</th>\n      <th>past_8</th>\n      <th>past_9</th>\n      <th>past_10</th>\n      <th>...</th>\n      <th>past_26</th>\n      <th>past_27</th>\n      <th>past_28</th>\n      <th>future_1</th>\n      <th>future_2</th>\n      <th>future_3</th>\n      <th>future_4</th>\n      <th>future_5</th>\n      <th>future_6</th>\n      <th>future_7</th>\n    </tr>\n  </thead>\n  <tbody>\n    <tr>\n      <td>0</td>\n      <td>65.9981</td>\n      <td>65.5698</td>\n      <td>65.4393</td>\n      <td>65.4321</td>\n      <td>65.1909</td>\n      <td>64.4711</td>\n      <td>63.8272</td>\n      <td>64.1213</td>\n      <td>64.4290</td>\n      <td>64.2199</td>\n      <td>...</td>\n      <td>64.2237</td>\n      <td>64.3652</td>\n      <td>64.2548</td>\n      <td>64.3455</td>\n      <td>64.0144</td>\n      <td>63.9542</td>\n      <td>63.7606</td>\n      <td>63.6336</td>\n      <td>63.7997</td>\n      <td>63.8600</td>\n    </tr>\n    <tr>\n      <td>1</td>\n      <td>65.5698</td>\n      <td>65.4393</td>\n      <td>65.4321</td>\n      <td>65.1909</td>\n      <td>64.4711</td>\n      <td>63.8272</td>\n      <td>64.1213</td>\n      <td>64.4290</td>\n      <td>64.2199</td>\n      <td>63.8487</td>\n      <td>...</td>\n      <td>64.3652</td>\n      <td>64.2548</td>\n      <td>64.3455</td>\n      <td>64.0144</td>\n      <td>63.9542</td>\n      <td>63.7606</td>\n      <td>63.6336</td>\n      <td>63.7997</td>\n      <td>63.8600</td>\n      <td>63.9966</td>\n    </tr>\n    <tr>\n      <td>2</td>\n      <td>65.4393</td>\n      <td>65.4321</td>\n      <td>65.1909</td>\n      <td>64.4711</td>\n      <td>63.8272</td>\n      <td>64.1213</td>\n      <td>64.4290</td>\n      <td>64.2199</td>\n      <td>63.8487</td>\n      <td>63.9453</td>\n      <td>...</td>\n      <td>64.2548</td>\n      <td>64.3455</td>\n      <td>64.0144</td>\n      <td>63.9542</td>\n      <td>63.7606</td>\n      <td>63.6336</td>\n      <td>63.7997</td>\n      <td>63.8600</td>\n      <td>63.9966</td>\n      <td>63.8700</td>\n    </tr>\n    <tr>\n      <td>3</td>\n      <td>65.4321</td>\n      <td>65.1909</td>\n      <td>64.4711</td>\n      <td>63.8272</td>\n      <td>64.1213</td>\n      <td>64.4290</td>\n      <td>64.2199</td>\n      <td>63.8487</td>\n      <td>63.9453</td>\n      <td>63.7060</td>\n      <td>...</td>\n      <td>64.3455</td>\n      <td>64.0144</td>\n      <td>63.9542</td>\n      <td>63.7606</td>\n      <td>63.6336</td>\n      <td>63.7997</td>\n      <td>63.8600</td>\n      <td>63.9966</td>\n      <td>63.8700</td>\n      <td>63.8320</td>\n    </tr>\n    <tr>\n      <td>4</td>\n      <td>65.1909</td>\n      <td>64.4711</td>\n      <td>63.8272</td>\n      <td>64.1213</td>\n      <td>64.4290</td>\n      <td>64.2199</td>\n      <td>63.8487</td>\n      <td>63.9453</td>\n      <td>63.7060</td>\n      <td>64.1873</td>\n      <td>...</td>\n      <td>64.0144</td>\n      <td>63.9542</td>\n      <td>63.7606</td>\n      <td>63.6336</td>\n      <td>63.7997</td>\n      <td>63.8600</td>\n      <td>63.9966</td>\n      <td>63.8700</td>\n      <td>63.8320</td>\n      <td>63.8734</td>\n    </tr>\n    <tr>\n      <td>...</td>\n      <td>...</td>\n      <td>...</td>\n      <td>...</td>\n      <td>...</td>\n      <td>...</td>\n      <td>...</td>\n      <td>...</td>\n      <td>...</td>\n      <td>...</td>\n      <td>...</td>\n      <td>...</td>\n      <td>...</td>\n      <td>...</td>\n      <td>...</td>\n      <td>...</td>\n      <td>...</td>\n      <td>...</td>\n      <td>...</td>\n      <td>...</td>\n      <td>...</td>\n      <td>...</td>\n    </tr>\n    <tr>\n      <td>83</td>\n      <td>61.2632</td>\n      <td>60.9474</td>\n      <td>61.4140</td>\n      <td>61.4328</td>\n      <td>61.5694</td>\n      <td>61.5333</td>\n      <td>61.4654</td>\n      <td>61.8552</td>\n      <td>61.8343</td>\n      <td>61.9515</td>\n      <td>...</td>\n      <td>63.4536</td>\n      <td>63.3085</td>\n      <td>63.7698</td>\n      <td>63.6873</td>\n      <td>63.7413</td>\n      <td>64.3008</td>\n      <td>64.9213</td>\n      <td>65.5177</td>\n      <td>65.6097</td>\n      <td>66.9909</td>\n    </tr>\n    <tr>\n      <td>84</td>\n      <td>60.9474</td>\n      <td>61.4140</td>\n      <td>61.4328</td>\n      <td>61.5694</td>\n      <td>61.5333</td>\n      <td>61.4654</td>\n      <td>61.8552</td>\n      <td>61.8343</td>\n      <td>61.9515</td>\n      <td>61.8031</td>\n      <td>...</td>\n      <td>63.3085</td>\n      <td>63.7698</td>\n      <td>63.6873</td>\n      <td>63.7413</td>\n      <td>64.3008</td>\n      <td>64.9213</td>\n      <td>65.5177</td>\n      <td>65.6097</td>\n      <td>66.9909</td>\n      <td>66.3274</td>\n    </tr>\n    <tr>\n      <td>85</td>\n      <td>61.4140</td>\n      <td>61.4328</td>\n      <td>61.5694</td>\n      <td>61.5333</td>\n      <td>61.4654</td>\n      <td>61.8552</td>\n      <td>61.8343</td>\n      <td>61.9515</td>\n      <td>61.8031</td>\n      <td>62.3380</td>\n      <td>...</td>\n      <td>63.7698</td>\n      <td>63.6873</td>\n      <td>63.7413</td>\n      <td>64.3008</td>\n      <td>64.9213</td>\n      <td>65.5177</td>\n      <td>65.6097</td>\n      <td>66.9909</td>\n      <td>66.3274</td>\n      <td>66.4437</td>\n    </tr>\n    <tr>\n      <td>86</td>\n      <td>61.4328</td>\n      <td>61.5694</td>\n      <td>61.5333</td>\n      <td>61.4654</td>\n      <td>61.8552</td>\n      <td>61.8343</td>\n      <td>61.9515</td>\n      <td>61.8031</td>\n      <td>62.3380</td>\n      <td>62.8299</td>\n      <td>...</td>\n      <td>63.6873</td>\n      <td>63.7413</td>\n      <td>64.3008</td>\n      <td>64.9213</td>\n      <td>65.5177</td>\n      <td>65.6097</td>\n      <td>66.9909</td>\n      <td>66.3274</td>\n      <td>66.4437</td>\n      <td>66.0784</td>\n    </tr>\n    <tr>\n      <td>87</td>\n      <td>61.5694</td>\n      <td>61.5333</td>\n      <td>61.4654</td>\n      <td>61.8552</td>\n      <td>61.8343</td>\n      <td>61.9515</td>\n      <td>61.8031</td>\n      <td>62.3380</td>\n      <td>62.8299</td>\n      <td>62.3934</td>\n      <td>...</td>\n      <td>63.7413</td>\n      <td>64.3008</td>\n      <td>64.9213</td>\n      <td>65.5177</td>\n      <td>65.6097</td>\n      <td>66.9909</td>\n      <td>66.3274</td>\n      <td>66.4437</td>\n      <td>66.0784</td>\n      <td>66.1854</td>\n    </tr>\n  </tbody>\n</table>\n<p>88 rows × 35 columns</p>\n</div>",
      "text/plain": "     past_1   past_2   past_3   past_4   past_5   past_6   past_7   past_8  \\\n0   65.9981  65.5698  65.4393  65.4321  65.1909  64.4711  63.8272  64.1213   \n1   65.5698  65.4393  65.4321  65.1909  64.4711  63.8272  64.1213  64.4290   \n2   65.4393  65.4321  65.1909  64.4711  63.8272  64.1213  64.4290  64.2199   \n3   65.4321  65.1909  64.4711  63.8272  64.1213  64.4290  64.2199  63.8487   \n4   65.1909  64.4711  63.8272  64.1213  64.4290  64.2199  63.8487  63.9453   \n..      ...      ...      ...      ...      ...      ...      ...      ...   \n83  61.2632  60.9474  61.4140  61.4328  61.5694  61.5333  61.4654  61.8552   \n84  60.9474  61.4140  61.4328  61.5694  61.5333  61.4654  61.8552  61.8343   \n85  61.4140  61.4328  61.5694  61.5333  61.4654  61.8552  61.8343  61.9515   \n86  61.4328  61.5694  61.5333  61.4654  61.8552  61.8343  61.9515  61.8031   \n87  61.5694  61.5333  61.4654  61.8552  61.8343  61.9515  61.8031  62.3380   \n\n     past_9  past_10  ...  past_26  past_27  past_28  future_1  future_2  \\\n0   64.4290  64.2199  ...  64.2237  64.3652  64.2548   64.3455   64.0144   \n1   64.2199  63.8487  ...  64.3652  64.2548  64.3455   64.0144   63.9542   \n2   63.8487  63.9453  ...  64.2548  64.3455  64.0144   63.9542   63.7606   \n3   63.9453  63.7060  ...  64.3455  64.0144  63.9542   63.7606   63.6336   \n4   63.7060  64.1873  ...  64.0144  63.9542  63.7606   63.6336   63.7997   \n..      ...      ...  ...      ...      ...      ...       ...       ...   \n83  61.8343  61.9515  ...  63.4536  63.3085  63.7698   63.6873   63.7413   \n84  61.9515  61.8031  ...  63.3085  63.7698  63.6873   63.7413   64.3008   \n85  61.8031  62.3380  ...  63.7698  63.6873  63.7413   64.3008   64.9213   \n86  62.3380  62.8299  ...  63.6873  63.7413  64.3008   64.9213   65.5177   \n87  62.8299  62.3934  ...  63.7413  64.3008  64.9213   65.5177   65.6097   \n\n    future_3  future_4  future_5  future_6  future_7  \n0    63.9542   63.7606   63.6336   63.7997   63.8600  \n1    63.7606   63.6336   63.7997   63.8600   63.9966  \n2    63.6336   63.7997   63.8600   63.9966   63.8700  \n3    63.7997   63.8600   63.9966   63.8700   63.8320  \n4    63.8600   63.9966   63.8700   63.8320   63.8734  \n..       ...       ...       ...       ...       ...  \n83   64.3008   64.9213   65.5177   65.6097   66.9909  \n84   64.9213   65.5177   65.6097   66.9909   66.3274  \n85   65.5177   65.6097   66.9909   66.3274   66.4437  \n86   65.6097   66.9909   66.3274   66.4437   66.0784  \n87   66.9909   66.3274   66.4437   66.0784   66.1854  \n\n[88 rows x 35 columns]"
     },
     "execution_count": 52,
     "metadata": {},
     "output_type": "execute_result"
    }
   ],
   "source": [
    "df = pd.DataFrame(data, columns = (past_columns + future_columns))\n",
    "df"
   ]
  },
  {
   "cell_type": "code",
   "execution_count": null,
   "metadata": {},
   "outputs": [],
   "source": []
  }
 ],
 "metadata": {
  "kernelspec": {
   "display_name": "Python 3",
   "language": "python",
   "name": "python3"
  },
  "language_info": {
   "codemirror_mode": {
    "name": "ipython",
    "version": 3
   },
   "file_extension": ".py",
   "mimetype": "text/x-python",
   "name": "python",
   "nbconvert_exporter": "python",
   "pygments_lexer": "ipython3",
   "version": "3.7.4-final"
  }
 },
 "nbformat": 4,
 "nbformat_minor": 2
}